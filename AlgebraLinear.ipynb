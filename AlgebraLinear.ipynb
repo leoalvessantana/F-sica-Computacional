{
 "cells": [
  {
   "cell_type": "markdown",
   "id": "e42d06d5-50ef-408c-ab33-6547c562b8f9",
   "metadata": {},
   "source": [
    "# Algebra Linear"
   ]
  },
  {
   "cell_type": "markdown",
   "id": "645a231c-4232-4d2d-85fb-a6e9c4d3b38b",
   "metadata": {
    "tags": []
   },
   "source": [
    "A álgebra linear é uma ferramenta muito importante na física.\n",
    "Ela é um ramo da matemática que surgiu do estudo  de sistemas de equações lineares (algébricas ou diferenciais), utiliza alguns conceitos e estruturas fundamentais da matemática como vetores, espaços vetoriais, transformações lineares, sistemas de equações lineares e matrizes.\n",
    "\n",
    "Uma documentação muito usada é: https://numpy.org/doc/stable/reference/routines.linalg.html"
   ]
  },
  {
   "cell_type": "code",
   "execution_count": 1,
   "id": "6061f856-5c4d-46c0-a577-fdf5485c7923",
   "metadata": {},
   "outputs": [],
   "source": [
    "# Bibliotecas\n",
    "import numpy as np"
   ]
  },
  {
   "cell_type": "markdown",
   "id": "afb38baf-1ab3-4195-af86-377fa74458b7",
   "metadata": {},
   "source": [
    "### Vetor\n",
    "\n",
    "Podemos definir um vetor de diferentes maneiras."
   ]
  },
  {
   "cell_type": "code",
   "execution_count": 2,
   "id": "15e26a0b-9609-49a5-b774-0a83ae3fba28",
   "metadata": {
    "tags": []
   },
   "outputs": [
    {
     "name": "stdout",
     "output_type": "stream",
     "text": [
      "x = [0 1 2 3 4 5]\n",
      "y = [0 1 2 3 4 5]\n",
      "z = [0. 1. 2. 3. 4. 5.]\n"
     ]
    }
   ],
   "source": [
    "# usando array, definição explicita\n",
    "x = np.array([0, 1, 2, 3, 4, 5])\n",
    "\n",
    "# usando arange (inicio, final não incluido, passo)\n",
    "y = np.arange(0, 6, 1)\n",
    "\n",
    "# usando linspace (inicio, final incluido, número de elementos)\n",
    "z = np.linspace(0, 5, 6)\n",
    "\n",
    "print('x =', x)\n",
    "print('y =', y)\n",
    "print('z =', z)"
   ]
  },
  {
   "cell_type": "markdown",
   "id": "c1475037-d114-46ea-bfbd-7708be3a174c",
   "metadata": {},
   "source": [
    "### Matriz"
   ]
  },
  {
   "cell_type": "code",
   "execution_count": 3,
   "id": "407c6f58-80e7-449c-9c4a-892b527090be",
   "metadata": {},
   "outputs": [
    {
     "name": "stdout",
     "output_type": "stream",
     "text": [
      "m1 = [[1 2 3]\n",
      " [4 5 6]\n",
      " [7 8 9]]\n",
      "m2 = [[1 2 3]\n",
      " [4 5 6]\n",
      " [7 8 9]]\n"
     ]
    }
   ],
   "source": [
    "# definição explicita\n",
    "\n",
    "m1 = np.array([[1, 2, 3], [4, 5, 6], [7, 8, 9]])\n",
    "\n",
    "m2 = np.matrix('1 2 3; 4 5 6; 7 8 9')\n",
    "\n",
    "print('m1 =',m1)\n",
    "print('m2 =',m2)"
   ]
  },
  {
   "cell_type": "code",
   "execution_count": 4,
   "id": "6119c6c5-5066-4d30-87d4-dd1afe4abb61",
   "metadata": {},
   "outputs": [
    {
     "data": {
      "text/plain": [
       "array([[1., 0., 0., 0.],\n",
       "       [0., 1., 0., 0.],\n",
       "       [0., 0., 1., 0.],\n",
       "       [0., 0., 0., 1.]])"
      ]
     },
     "execution_count": 4,
     "metadata": {},
     "output_type": "execute_result"
    }
   ],
   "source": [
    "# Matriz NxN com 1 em todas k-th diagonais\n",
    "np.eye(N=4, k=0)"
   ]
  },
  {
   "cell_type": "code",
   "execution_count": 5,
   "id": "2bd748f0-0ac6-4ef7-82d3-1ad132113bab",
   "metadata": {},
   "outputs": [
    {
     "data": {
      "text/plain": [
       "array([[1., 1.],\n",
       "       [1., 1.],\n",
       "       [1., 1.]])"
      ]
     },
     "execution_count": 5,
     "metadata": {},
     "output_type": "execute_result"
    }
   ],
   "source": [
    "# matriz preenchida de 1\n",
    "np.ones([3,2])"
   ]
  },
  {
   "cell_type": "code",
   "execution_count": 6,
   "id": "29f08e83-b469-47db-a294-33f626a61f58",
   "metadata": {},
   "outputs": [
    {
     "data": {
      "text/plain": [
       "array([[0., 0.],\n",
       "       [0., 0.],\n",
       "       [0., 0.]])"
      ]
     },
     "execution_count": 6,
     "metadata": {},
     "output_type": "execute_result"
    }
   ],
   "source": [
    "# matriz preenchida de 0\n",
    "np.zeros([3,2])"
   ]
  },
  {
   "cell_type": "markdown",
   "id": "8c4c62de-a283-432d-8ee2-59a24f2e3fb7",
   "metadata": {},
   "source": [
    "### Transposta, Inversa e Determinante"
   ]
  },
  {
   "cell_type": "code",
   "execution_count": 7,
   "id": "a677d927-0d96-4b0c-a91e-5e925713e49a",
   "metadata": {},
   "outputs": [
    {
     "name": "stdout",
     "output_type": "stream",
     "text": [
      "Transposta de A: \n",
      " [[0 1]\n",
      " [1 0]]\n",
      "Inversa de A: \n",
      " [[0. 1.]\n",
      " [1. 0.]]\n",
      "Determinante de A: \n",
      " -1.0\n"
     ]
    }
   ],
   "source": [
    "A = np.array([[0, 1], \n",
    "              [1, 0]])\n",
    "\n",
    "print('Transposta de A: \\n', np.transpose(A))\n",
    "\n",
    "print('Inversa de A: \\n', np.linalg.inv(A))\n",
    "\n",
    "print('Determinante de A: \\n', np.linalg.det(A))\n"
   ]
  },
  {
   "cell_type": "markdown",
   "id": "c7ea04ec-d0d2-4908-80ec-f33d21dbe129",
   "metadata": {},
   "source": [
    "### Produto Escalar e Produto Vetorial"
   ]
  },
  {
   "cell_type": "code",
   "execution_count": 8,
   "id": "aa35cea8-c101-49f6-a288-2d6fe836aa76",
   "metadata": {},
   "outputs": [
    {
     "name": "stdout",
     "output_type": "stream",
     "text": [
      "Produto Escalar: 0\n",
      "Produto Vetorial: [0 0 1]\n"
     ]
    }
   ],
   "source": [
    "x = np.array([1, 0, 0])\n",
    "y = np.array([0, 1, 0])\n",
    "\n",
    "PE = np.dot(x, y)\n",
    "print('Produto Escalar:', PE)\n",
    "\n",
    "PV = np.cross(x, y)\n",
    "print('Produto Vetorial:', PV)"
   ]
  },
  {
   "cell_type": "markdown",
   "id": "0f316bea-c0eb-47c4-a7b9-5824bd427cec",
   "metadata": {},
   "source": [
    "### Produto de Matrizes"
   ]
  },
  {
   "cell_type": "code",
   "execution_count": 9,
   "id": "8ae8020b-69c4-42d0-8505-34474397cc7b",
   "metadata": {},
   "outputs": [
    {
     "name": "stdout",
     "output_type": "stream",
     "text": [
      "O produto das matrizes A e B é: \n",
      " [[3 4]\n",
      " [1 2]]\n",
      "ou também: \n",
      " [[3 4]\n",
      " [1 2]]\n",
      "Multiplicação elemento por elemento das matrizes A e B é \n",
      " [[0 2]\n",
      " [3 0]]\n"
     ]
    }
   ],
   "source": [
    "# let's use simple 2x2 matrices\n",
    "A = np.array([[0, 1], [1, 0]])\n",
    "B = np.array([[1, 2], [3, 4]])\n",
    "\n",
    "print('O produto das matrizes A e B é: \\n', np.dot(A, B))\n",
    "\n",
    "print('ou também: \\n', A @ B)\n",
    "\n",
    "print('Multiplicação elemento por elemento das matrizes A e B é \\n', A*B)"
   ]
  },
  {
   "cell_type": "markdown",
   "id": "e66dea5b-dbe1-4659-bec8-41795c7434ec",
   "metadata": {},
   "source": [
    "### Autovalores e Autovetores "
   ]
  },
  {
   "cell_type": "code",
   "execution_count": 10,
   "id": "9f888167-9685-4292-bc32-fb615f41c885",
   "metadata": {},
   "outputs": [
    {
     "name": "stdout",
     "output_type": "stream",
     "text": [
      "Autovalores da matriz hermitiana: [-1.  1.]\n",
      "Autovalores de qualquer matriz: [ 1. -1.]\n",
      "Autovalores: [-1.  1.]\n",
      "Primeiro autovetor: [-0.70710678  0.70710678]\n",
      "Primeiro autovetor: [0.70710678 0.70710678]\n"
     ]
    }
   ],
   "source": [
    "A = np.array([[0, 1], [1, 0]])\n",
    "\n",
    "# usando eigvalsh, usado quando a matriz é hermitiana\n",
    "evals = np.linalg.eigvalsh(A)\n",
    "print('Autovalores da matriz hermitiana:', evals)\n",
    "\n",
    "evals1 = np.linalg.eigvals(A)\n",
    "print('Autovalores de qualquer matriz:', evals1)\n",
    "\n",
    "\n",
    "# calculando autovetores e autovalores ao mesmo tempo\n",
    "evals, evecs = np.linalg.eigh(A)\n",
    "print('Autovalores:',evals)\n",
    "print('Primeiro autovetor:', evecs[:,0])\n",
    "print('Primeiro autovetor:', evecs[:,1])"
   ]
  },
  {
   "cell_type": "markdown",
   "id": "d04658d5-5e5e-4a2e-8520-6a2d2f875334",
   "metadata": {},
   "source": [
    "### Sistema de equações lineares\n",
    "\n",
    "Seja por exemplo o sistema:\n",
    "\n",
    "$4x_0+x_1=4$\n",
    "\n",
    "$2x_1+x_0=8$\n",
    "\n",
    "ou seja,\n",
    "\n",
    "$\\begin{pmatrix}\n",
    "4 & 1\\\\\n",
    "1 & 2 \n",
    "\\end{pmatrix}\n",
    "\\begin{pmatrix}\n",
    "x_0 \\\\\n",
    "x_1 \n",
    "\\end{pmatrix}\n",
    "=\n",
    "\\begin{pmatrix}\n",
    "4 \\\\\n",
    "8 \n",
    "\\end{pmatrix}$\n"
   ]
  },
  {
   "cell_type": "code",
   "execution_count": 11,
   "id": "47b2940e-384b-41ac-951f-14743e61ba98",
   "metadata": {},
   "outputs": [
    {
     "name": "stdout",
     "output_type": "stream",
     "text": [
      "Solução: [0. 4.]\n",
      "Ou: [0. 4.]\n"
     ]
    }
   ],
   "source": [
    "A = np.array([[4, 1], [1, 2]])\n",
    "B = np.array([4, 8])\n",
    "\n",
    "X = np.linalg.solve(A, B)\n",
    "print('Solução:', X)\n",
    "\n",
    "# ou \n",
    "X = np.linalg.inv(A) @ B\n",
    "print('Ou:', X)"
   ]
  }
 ],
 "metadata": {
  "kernelspec": {
   "display_name": "Python 3",
   "language": "python",
   "name": "python3"
  },
  "language_info": {
   "codemirror_mode": {
    "name": "ipython",
    "version": 3
   },
   "file_extension": ".py",
   "mimetype": "text/x-python",
   "name": "python",
   "nbconvert_exporter": "python",
   "pygments_lexer": "ipython3",
   "version": "3.8.8"
  }
 },
 "nbformat": 4,
 "nbformat_minor": 5
}

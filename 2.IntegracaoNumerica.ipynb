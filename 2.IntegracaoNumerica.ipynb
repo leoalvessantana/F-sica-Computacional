{
 "cells": [
  {
   "cell_type": "markdown",
   "id": "7ae07edb-7f7e-4a0f-96a0-603c3f93cbb3",
   "metadata": {},
   "source": [
    "# 2. Integração Numérica  \n",
    "\n",
    "A integração numérica envolve métodos numérico para o cálculo de integrais definidas. Aqui vamos os seguintes 3 metodos:\n",
    "\n",
    "Retângulo: \n",
    "$\\int\\limits_a^b f(x)dx = \\sum\\limits_{i=0}^{n-1}  f(x_i)\\Delta x$\n",
    "\n",
    "Trapézio:\n",
    "$\\int\\limits_a^b f(x)dx = \\sum\\limits_{i=0}^{n-1}  [f(x_i)+f(x_{i+1})] \\frac{\\Delta x}{2}$\n",
    "\n",
    "Simpson's:\n",
    "$\\int\\limits_a^b f(x)dx = \\sum\\limits_{i=0}^{n-2} [f(x_i)+4f(x_{i+1})+f(x_{i+2})] \\frac{\\Delta x}{3}$\n",
    "\n",
    "\n",
    "Topicos:\n",
    "\n",
    "2.1 Implementando nosso proprio código \n",
    "\n",
    "2.2 Usando chamadas do Scipy\n",
    "\n"
   ]
  },
  {
   "cell_type": "markdown",
   "id": "72c4ab34-a09c-4211-be58-f33fad0e8eb8",
   "metadata": {},
   "source": [
    "### 2.1 Implementando códigos para realizar as integrações"
   ]
  },
  {
   "cell_type": "code",
   "execution_count": 3,
   "id": "432e321f-4c6f-4a34-8e13-ccae4bcc8ac6",
   "metadata": {},
   "outputs": [],
   "source": [
    "import numpy as np\n",
    "import matplotlib.pyplot as plt\n",
    "\n",
    "\n",
    "def retangulo(x, y):  \n",
    "    '''Integração via retangulo\n",
    "    x: vetor de pontos \n",
    "    y: função a ser integrada\n",
    "    dx: passo\n",
    "    '''\n",
    "\n",
    "    dx = x[1] - x[0]\n",
    "    soma = 0\n",
    "    for i in range(len(x)-1):\n",
    "        soma += y[i] * dx\n",
    "    return soma\n",
    "\n",
    "\n",
    "def trapezio(x, y):  \n",
    "    '''Integração via trapezio'''\n",
    "\n",
    "    dx = x[1] - x[0]\n",
    "    soma = 0\n",
    "    for i in range(len(x)-1):\n",
    "        soma += (y[i]+y[i+1])*dx/2 \n",
    "    return soma\n",
    "\n",
    "\n",
    "\n",
    "def simpson(x, y):  \n",
    "    '''Integração via simpson'''\n",
    "\n",
    "    dx = x[1] - x[0]\n",
    "    soma = 0\n",
    "    for i in range(0, len(x)-2, 2):\n",
    "        soma += (y[i] + 4*y[i+1] + y[i+2])*dx/3 \n",
    "    return soma\n"
   ]
  },
  {
   "cell_type": "markdown",
   "id": "110f4e93-060c-4313-a67d-d737e9fd9bf9",
   "metadata": {},
   "source": [
    "##### Exemplos de integrais:"
   ]
  },
  {
   "cell_type": "markdown",
   "id": "4f296236-aeae-4de5-bbf7-106db020e427",
   "metadata": {},
   "source": [
    "a) $\\int_0^{\\pi} \\sin{x}dx = 2$"
   ]
  },
  {
   "cell_type": "code",
   "execution_count": 4,
   "id": "253eaca7-04d3-4dae-a4a5-ed9c7fee7582",
   "metadata": {},
   "outputs": [
    {
     "name": "stdout",
     "output_type": "stream",
     "text": [
      "1.9998321638939918\n",
      "1.9998321638939935\n",
      "1.999496553648904\n"
     ]
    }
   ],
   "source": [
    "x = np.linspace(0, np.pi, 100)\n",
    "f = lambda x: np.sin(x) #seno\n",
    "y = f(x)\n",
    "r = retangulo(x, y)\n",
    "t = trapezio(x, y)\n",
    "s = simpson(x, y)\n",
    "\n",
    "print(r)\n",
    "print(t)\n",
    "print(s)"
   ]
  },
  {
   "cell_type": "markdown",
   "id": "8c547a7a-daff-44ea-abeb-a866e153a35a",
   "metadata": {},
   "source": [
    "b) $\\int_{-10}^{10} \\frac{e^{-x^2/2}}{\\sqrt{2\\pi}}dx = 1$"
   ]
  },
  {
   "cell_type": "code",
   "execution_count": 5,
   "id": "0340c44e-3b1d-4c41-885b-f4343d6bec56",
   "metadata": {},
   "outputs": [
    {
     "name": "stdout",
     "output_type": "stream",
     "text": [
      "1.0000000000000016\n",
      "1.000000000000002\n",
      "1.0000000000000022\n"
     ]
    }
   ],
   "source": [
    "x = np.linspace(-10, 10, 100)\n",
    "f = lambda x:  (np.exp((-x ** 2)/2))/(np.sqrt(2*np.pi))\n",
    "y = f(x)\n",
    "r = retangulo(x, y)\n",
    "t = trapezio(x, y)\n",
    "s = simpson(x, y)\n",
    "\n",
    "print(r)\n",
    "print(t)\n",
    "print(s)"
   ]
  },
  {
   "cell_type": "markdown",
   "id": "7c3b2e6f-4681-4658-ba9d-1099937570c8",
   "metadata": {},
   "source": [
    "### 2.2) Usando as chamadas de integração do scipy:  trapz, simps e quad "
   ]
  },
  {
   "cell_type": "code",
   "execution_count": 9,
   "id": "716f274e-2f5f-4025-bea9-b3fc96505863",
   "metadata": {},
   "outputs": [
    {
     "name": "stdout",
     "output_type": "stream",
     "text": [
      "1.9998321638939927\n",
      "1.9999999690165366\n",
      "2.0\n"
     ]
    }
   ],
   "source": [
    "import numpy as np\n",
    "from scipy import integrate\n",
    "import scipy.integrate as spi\n",
    "\n",
    "x = np.linspace(0, np.pi, 100)\n",
    "y = np.sin(x) #seno\n",
    "\n",
    "# trapezio\n",
    "trap = np.trapz(y, x)\n",
    "print(trap)\n",
    "\n",
    "# Simpson\n",
    "simp = spi.simps(y,x)\n",
    "print(simp)\n",
    "\n",
    "# quad\n",
    "quad = integrate.quad(lambda x:np.sin(x), 0, np.pi)[0]\n",
    "print(quad)"
   ]
  },
  {
   "cell_type": "code",
   "execution_count": null,
   "id": "6efa09a9-6031-4760-9572-49931229c43a",
   "metadata": {},
   "outputs": [],
   "source": []
  }
 ],
 "metadata": {
  "kernelspec": {
   "display_name": "Python 3",
   "language": "python",
   "name": "python3"
  },
  "language_info": {
   "codemirror_mode": {
    "name": "ipython",
    "version": 3
   },
   "file_extension": ".py",
   "mimetype": "text/x-python",
   "name": "python",
   "nbconvert_exporter": "python",
   "pygments_lexer": "ipython3",
   "version": "3.8.8"
  }
 },
 "nbformat": 4,
 "nbformat_minor": 5
}

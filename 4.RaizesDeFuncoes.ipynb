{
 "cells": [
  {
   "cell_type": "markdown",
   "id": "59eb1c68-81fa-4fc9-948b-c5aa8f55887b",
   "metadata": {},
   "source": [
    "# 4. Métodos Numéricos para encontrar zeros de funções transcedentais"
   ]
  },
  {
   "cell_type": "markdown",
   "id": "f2fd5b5c",
   "metadata": {},
   "source": [
    "Algumas equações que dependem de uma variável $x$ podem ser resolvidas para obter um ou mais valores de \n",
    "$x$ que verificam a equação. Por exemplo, a equação $x^2 + 4 x + 3 = 0$ tem duas soluções, $x = -1$ e \n",
    "$x = -3$, e a equação $e^x = 3$ tem uma única solução x = ln(3) = 1.0986… Existem equações, chamadas transcendentes, em que não é possível escrever uma expressão matemática para a solução $x$ e até pode ser difícil determinar se existem soluções e quantas. Por exemplo, a equação $x + tan(x)$ é uma equação transcendente; as suas soluções só podem ser calculadas de forma aproximada, usando métodos numéricos. Aqui vamos ver dois métodos: o método da bisseção e o método de Newton.\n",
    "\n",
    "### 4.1 Método da bisseção\n",
    "\n",
    "Dados dois valores diferentes $x_1$ e $x_2$ , tal que os sinais de $f(x_1)$ e $f(x_2)$ são diferentes, ou seja, há uma raiz nesse intervalo, calculam-se o ponto do meio $x_m = x(x_1+x_2)/2$ e o valor da função nesse ponto, $f(x_m)$ . \n",
    "\n",
    "Se $f(x_m)$ for nula, $x_m$ é a raiz procurada; \n",
    "\n",
    "Caso contrário, se o sinal de $f(x_m)$ for diferente de $f(x_1)$ então  $f(x_m)f(x_1) < 0$, logo a raiz esta no intervalo $x_1 < x < x_m$ e calculo novamente o ponto do meio;\n",
    "\n",
    "Se o sinal de $f(x_m)$ for diferente do de $f(x_2)$ então  $f(x_m)f(x_2) < 0$, logo a raiz esta no intervalo $x_2 < x < x_m$ e calculo novamente o ponto do meio.\n",
    "\n",
    "\n",
    "O processo repete-se indefinidamente até se obter um intervalo de comprimento muito reduzido:\n",
    "\n",
    "$$|x_2−x_1|< \\epsilon$$\n",
    "\n",
    "onde \n",
    "$\\epsilon$ é a precisão com que se quer calcular a raiz. O valor final de $x_m$ será o que melhor aproxima o valor da raiz, com a precisão desejada.\n",
    "\n",
    "\n",
    "### 4.2 Método de Newton\n",
    "    \n",
    "Tal como no método de aproximações sucessivas, basta ter um valor inicial para criar uma sequência que se aproxima da raiz. As vantagens em relação ao método de aproximações sucessivas é que não é preciso escrever a equação $f(x) = 0$ na forma $x = g(x)$ e a sequência converge em muitos mais casos. A desvantagem é que é preciso conhecer a derivada,$f'(x)$ , da função f(x) .\n",
    "\n",
    "Se $f(x)$ é uma função contínua e derivável, o valor de $f(x_{i+1})$ pode ser calculado, a partir do valor de \n",
    "    $f(x_i)$, usando a série de Taylor $f(x_{i+1})= f(x_i)+(x_{i+1}−x_i)f'(x_i)+· · ·$\n",
    "\n",
    "Se $|x_{i+1}−x_i|$ for suficientemente pequeno, os dois primeiros termos da série, apresentados na equação acima, são uma boa aproximação para o valor da série completa. Se o ponto $x_{i+1}$ for uma raiz, então $f(x_{i+1}) = 0$ e a equação anterior conduz à relação de recorrência, que permite definir uma sequência de valores $x_i$ que deverá aproximar-se do valor da raiz.\n",
    "\n",
    "$$ x_{i+1} = x_i - \\frac{f(x_i)}{f'(x_i)}$$\n",
    "\n",
    "assim $x_{i+1}$ deverá aproximar-se do valor da raiz."
   ]
  },
  {
   "cell_type": "markdown",
   "id": "886acba0",
   "metadata": {},
   "source": [
    "### Exemplo:\n",
    "    \n",
    " $\\sin{x} = \\alpha x \\hspace{0.5cm} para \\hspace{0.5cm} \\alpha = 0.1$"
   ]
  },
  {
   "cell_type": "code",
   "execution_count": 1,
   "id": "3119021e",
   "metadata": {},
   "outputs": [
    {
     "data": {
      "image/png": "[encoded data removed]",
      "text/plain": [
       "<Figure size 432x288 with 1 Axes>"
      ]
     },
     "metadata": {
      "needs_background": "light"
     },
     "output_type": "display_data"
    }
   ],
   "source": [
    "import numpy as np\n",
    "from scipy import optimize\n",
    "import matplotlib.pyplot as plt\n",
    "\n",
    "\n",
    "def f(x):\n",
    "    return np.sin(x) - 0.1*x\n",
    "\n",
    "\n",
    "x =  np.arange(-12, 12, 0.1)\n",
    "\n",
    "plt.plot(x, f(x).astype(float))\n",
    "plt.title(r'Gráfico da função $f(x) = \\sin{x} - \\alpha x$')\n",
    "plt.xlabel('x')\n",
    "plt.ylabel('f(x)')\n",
    "plt.grid()\n",
    "plt.show()"
   ]
  },
  {
   "cell_type": "code",
   "execution_count": 2,
   "id": "558a4fac",
   "metadata": {},
   "outputs": [
    {
     "name": "stdout",
     "output_type": "stream",
     "text": [
      "Pelo método de Newton encontramos aproximadamente as raizes:\n",
      "1ª raiz -8.4232\n",
      "2ª raiz -7.0682\n",
      "3ª raiz -2.8523\n",
      "4ª raiz 0.0000\n",
      "5ª raiz 2.8523\n",
      "6ª raiz 7.0682\n",
      "7ª raiz 8.4232\n",
      "--------------------------------\n",
      "Pelo método da bissecção encontramos aproximadamente as raizes:\n",
      "1ª raiz -8.4232\n",
      "2ª raiz -7.0682\n",
      "3ª raiz -2.8523\n",
      "4ª raiz 0.0000\n",
      "5ª raiz 2.8523\n",
      "6ª raiz 7.0682\n",
      "7ª raiz 8.4232\n"
     ]
    }
   ],
   "source": [
    "# Por Newton:\n",
    "print('Pelo método de Newton encontramos aproximadamente as raizes:')\n",
    "raiz1 = optimize.newton(f, -10)\n",
    "print('1ª raiz %.4f' %raiz1)\n",
    "raiz2 = optimize.newton(f, -7)\n",
    "print('2ª raiz %.4f' %raiz2)\n",
    "raiz3 = optimize.newton(f, -3)\n",
    "print('3ª raiz %.4f' %raiz3)\n",
    "raiz4 = optimize.newton(f, 0)\n",
    "print('4ª raiz %.4f' %raiz4)\n",
    "raiz5 = optimize.newton(f, 3)\n",
    "print('5ª raiz %.4f' %raiz5)\n",
    "raiz6 = optimize.newton(f, 7)\n",
    "print('6ª raiz %.4f' %raiz6)\n",
    "raiz7 = optimize.newton(f, 9)\n",
    "print('7ª raiz %.4f' %raiz7)\n",
    "\n",
    "print('--------------------------------')\n",
    "\n",
    "print('Pelo método da bissecção encontramos aproximadamente as raizes:')\n",
    "raiz1 = optimize.bisect(f, -9, -8)\n",
    "print('1ª raiz %.4f' %raiz1)\n",
    "raiz2 = optimize.bisect(f, -8, -5)\n",
    "print('2ª raiz %.4f' %raiz2)\n",
    "raiz3 = optimize.bisect(f, -3, -2)\n",
    "print('3ª raiz %.4f' %raiz3)\n",
    "raiz4 = optimize.bisect(f, -1, 1)\n",
    "print('4ª raiz %.4f' %raiz4)\n",
    "raiz5 = optimize.bisect(f, 2, 3)\n",
    "print('5ª raiz %.4f' %raiz5)\n",
    "raiz6 = optimize.bisect(f, 6, 8)\n",
    "print('6ª raiz %.4f' %raiz6)\n",
    "raiz7 = optimize.bisect(f, 8, 9)\n",
    "print('7ª raiz %.4f' %raiz7)\n"
   ]
  },
  {
   "cell_type": "code",
   "execution_count": 5,
   "id": "ee376cde",
   "metadata": {},
   "outputs": [
    {
     "data": {
      "image/png": "[encoded data removed]",
      "text/plain": [
       "<Figure size 432x288 with 1 Axes>"
      ]
     },
     "metadata": {
      "needs_background": "light"
     },
     "output_type": "display_data"
    }
   ],
   "source": [
    "raiz1 = optimize.newton(f, -10)\n",
    "plt.scatter(raiz1, f(raiz1))\n",
    "plt.annotate(\"Raiz 1\", (raiz1, f(raiz1)), (-11, f(raiz1)))\n",
    "raiz2 = optimize.newton(f, -7)\n",
    "plt.scatter(raiz2, f(raiz2))\n",
    "plt.annotate(\"Raiz 2\", (raiz2, f(raiz2)))\n",
    "raiz3 = optimize.newton(f, -3)\n",
    "plt.scatter(raiz3, f(raiz3))\n",
    "plt.annotate(\"Raiz 3\", (raiz3, f(raiz3)))\n",
    "raiz4 = optimize.newton(f, 0)\n",
    "plt.scatter(raiz4, f(raiz4))\n",
    "plt.annotate(\"Raiz 4\", (raiz4, f(raiz4)))\n",
    "raiz5 = optimize.newton(f, 3)\n",
    "plt.scatter(raiz5, f(raiz5))\n",
    "plt.annotate(\"Raiz 5\", (raiz5, f(raiz5)))\n",
    "raiz6 = optimize.newton(f, 7)\n",
    "plt.scatter(raiz6, f(raiz6))\n",
    "plt.annotate(\"Raiz 6\", (raiz6, f(raiz6)), (5, -0.25))\n",
    "raiz7 = optimize.newton(f, 9)\n",
    "plt.scatter(raiz7, f(raiz7))\n",
    "plt.annotate(\"Raiz 7\", (raiz7, f(raiz7)))\n",
    "\n",
    "plt.plot(x, f(x).astype(float))\n",
    "plt.title(r'Gráfico da função $f(x) = \\sin{x} - \\alpha x$')\n",
    "plt.xlabel('x')\n",
    "plt.ylabel('f(x)')\n",
    "plt.grid()\n",
    "plt.show()"
   ]
  },
  {
   "cell_type": "code",
   "execution_count": null,
   "id": "0a4f61c5",
   "metadata": {},
   "outputs": [],
   "source": []
  },
  {
   "cell_type": "code",
   "execution_count": null,
   "id": "96310ec3",
   "metadata": {},
   "outputs": [],
   "source": []
  },
  {
   "cell_type": "code",
   "execution_count": null,
   "id": "6d7f845c",
   "metadata": {},
   "outputs": [],
   "source": []
  }
 ],
 "metadata": {
  "kernelspec": {
   "display_name": "Python 3",
   "language": "python",
   "name": "python3"
  },
  "language_info": {
   "codemirror_mode": {
    "name": "ipython",
    "version": 3
   },
   "file_extension": ".py",
   "mimetype": "text/x-python",
   "name": "python",
   "nbconvert_exporter": "python",
   "pygments_lexer": "ipython3",
   "version": "3.8.8"
  }
 },
 "nbformat": 4,
 "nbformat_minor": 5
}
